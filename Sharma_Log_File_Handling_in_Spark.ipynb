{
  "nbformat": 4,
  "nbformat_minor": 0,
  "metadata": {
    "colab": {
      "provenance": [],
      "include_colab_link": true
    },
    "kernelspec": {
      "name": "python3",
      "display_name": "Python 3"
    },
    "language_info": {
      "name": "python"
    }
  },
  "cells": [
    {
      "cell_type": "markdown",
      "metadata": {
        "id": "view-in-github",
        "colab_type": "text"
      },
      "source": [
        "<a href=\"https://colab.research.google.com/github/ankits2001/SJSU-DATA201-Project/blob/main/Sharma_Log_File_Handling_in_Spark.ipynb\" target=\"_parent\"><img src=\"https://colab.research.google.com/assets/colab-badge.svg\" alt=\"Open In Colab\"/></a>"
      ]
    },
    {
      "cell_type": "markdown",
      "source": [
        "## Install pyspark and download the 7 log files"
      ],
      "metadata": {
        "id": "vsIwoQ_DXyvx"
      }
    },
    {
      "cell_type": "code",
      "source": [
        "!wget -nc https://raw.githubusercontent.com/keeyong/sjsu-data226-SP25/refs/heads/main/week13/data/sample_web_log_1.log.gz\n",
        "!wget -nc https://raw.githubusercontent.com/keeyong/sjsu-data226-SP25/refs/heads/main/week13/data/sample_web_log_2.log.gz\n",
        "!wget -nc https://raw.githubusercontent.com/keeyong/sjsu-data226-SP25/refs/heads/main/week13/data/sample_web_log_3.log.gz\n",
        "!wget -nc https://raw.githubusercontent.com/keeyong/sjsu-data226-SP25/refs/heads/main/week13/data/sample_web_log_4.log.gz\n",
        "!wget -nc https://raw.githubusercontent.com/keeyong/sjsu-data226-SP25/refs/heads/main/week13/data/sample_web_log_5.log.gz\n",
        "!wget -nc https://raw.githubusercontent.com/keeyong/sjsu-data226-SP25/refs/heads/main/week13/data/sample_web_log_6.log.gz\n",
        "!wget -nc https://raw.githubusercontent.com/keeyong/sjsu-data226-SP25/refs/heads/main/week13/data/sample_web_log_7.log.gz"
      ],
      "metadata": {
        "colab": {
          "base_uri": "https://localhost:8080/"
        },
        "id": "Arz87s-pjs2g",
        "outputId": "3a84ee3b-4138-47ef-d980-263305fe7b06"
      },
      "execution_count": 1,
      "outputs": [
        {
          "output_type": "stream",
          "name": "stdout",
          "text": [
            "--2025-04-24 20:50:11--  https://raw.githubusercontent.com/keeyong/sjsu-data226-SP25/refs/heads/main/week13/data/sample_web_log_1.log.gz\n",
            "Resolving raw.githubusercontent.com (raw.githubusercontent.com)... 185.199.108.133, 185.199.109.133, 185.199.110.133, ...\n",
            "Connecting to raw.githubusercontent.com (raw.githubusercontent.com)|185.199.108.133|:443... connected.\n",
            "HTTP request sent, awaiting response... 200 OK\n",
            "Length: 10277393 (9.8M) [application/octet-stream]\n",
            "Saving to: ‘sample_web_log_1.log.gz’\n",
            "\n",
            "sample_web_log_1.lo 100%[===================>]   9.80M  --.-KB/s    in 0.1s    \n",
            "\n",
            "2025-04-24 20:50:12 (72.3 MB/s) - ‘sample_web_log_1.log.gz’ saved [10277393/10277393]\n",
            "\n",
            "--2025-04-24 20:50:12--  https://raw.githubusercontent.com/keeyong/sjsu-data226-SP25/refs/heads/main/week13/data/sample_web_log_2.log.gz\n",
            "Resolving raw.githubusercontent.com (raw.githubusercontent.com)... 185.199.108.133, 185.199.109.133, 185.199.110.133, ...\n",
            "Connecting to raw.githubusercontent.com (raw.githubusercontent.com)|185.199.108.133|:443... connected.\n",
            "HTTP request sent, awaiting response... 200 OK\n",
            "Length: 10277610 (9.8M) [application/octet-stream]\n",
            "Saving to: ‘sample_web_log_2.log.gz’\n",
            "\n",
            "sample_web_log_2.lo 100%[===================>]   9.80M  59.5MB/s    in 0.2s    \n",
            "\n",
            "2025-04-24 20:50:12 (59.5 MB/s) - ‘sample_web_log_2.log.gz’ saved [10277610/10277610]\n",
            "\n",
            "--2025-04-24 20:50:12--  https://raw.githubusercontent.com/keeyong/sjsu-data226-SP25/refs/heads/main/week13/data/sample_web_log_3.log.gz\n",
            "Resolving raw.githubusercontent.com (raw.githubusercontent.com)... 185.199.110.133, 185.199.108.133, 185.199.111.133, ...\n",
            "Connecting to raw.githubusercontent.com (raw.githubusercontent.com)|185.199.110.133|:443... connected.\n",
            "HTTP request sent, awaiting response... 200 OK\n",
            "Length: 10276732 (9.8M) [application/octet-stream]\n",
            "Saving to: ‘sample_web_log_3.log.gz’\n",
            "\n",
            "sample_web_log_3.lo 100%[===================>]   9.80M  --.-KB/s    in 0.1s    \n",
            "\n",
            "2025-04-24 20:50:13 (66.4 MB/s) - ‘sample_web_log_3.log.gz’ saved [10276732/10276732]\n",
            "\n",
            "--2025-04-24 20:50:13--  https://raw.githubusercontent.com/keeyong/sjsu-data226-SP25/refs/heads/main/week13/data/sample_web_log_4.log.gz\n",
            "Resolving raw.githubusercontent.com (raw.githubusercontent.com)... 185.199.108.133, 185.199.109.133, 185.199.110.133, ...\n",
            "Connecting to raw.githubusercontent.com (raw.githubusercontent.com)|185.199.108.133|:443... connected.\n",
            "HTTP request sent, awaiting response... 200 OK\n",
            "Length: 10277331 (9.8M) [application/octet-stream]\n",
            "Saving to: ‘sample_web_log_4.log.gz’\n",
            "\n",
            "sample_web_log_4.lo 100%[===================>]   9.80M  61.9MB/s    in 0.2s    \n",
            "\n",
            "2025-04-24 20:50:13 (61.9 MB/s) - ‘sample_web_log_4.log.gz’ saved [10277331/10277331]\n",
            "\n",
            "--2025-04-24 20:50:13--  https://raw.githubusercontent.com/keeyong/sjsu-data226-SP25/refs/heads/main/week13/data/sample_web_log_5.log.gz\n",
            "Resolving raw.githubusercontent.com (raw.githubusercontent.com)... 185.199.108.133, 185.199.109.133, 185.199.110.133, ...\n",
            "Connecting to raw.githubusercontent.com (raw.githubusercontent.com)|185.199.108.133|:443... connected.\n",
            "HTTP request sent, awaiting response... 200 OK\n",
            "Length: 10277563 (9.8M) [application/octet-stream]\n",
            "Saving to: ‘sample_web_log_5.log.gz’\n",
            "\n",
            "sample_web_log_5.lo 100%[===================>]   9.80M  50.9MB/s    in 0.2s    \n",
            "\n",
            "2025-04-24 20:50:14 (50.9 MB/s) - ‘sample_web_log_5.log.gz’ saved [10277563/10277563]\n",
            "\n",
            "--2025-04-24 20:50:14--  https://raw.githubusercontent.com/keeyong/sjsu-data226-SP25/refs/heads/main/week13/data/sample_web_log_6.log.gz\n",
            "Resolving raw.githubusercontent.com (raw.githubusercontent.com)... 185.199.108.133, 185.199.109.133, 185.199.111.133, ...\n",
            "Connecting to raw.githubusercontent.com (raw.githubusercontent.com)|185.199.108.133|:443... connected.\n",
            "HTTP request sent, awaiting response... 200 OK\n",
            "Length: 10276383 (9.8M) [application/octet-stream]\n",
            "Saving to: ‘sample_web_log_6.log.gz’\n",
            "\n",
            "sample_web_log_6.lo 100%[===================>]   9.80M  56.6MB/s    in 0.2s    \n",
            "\n",
            "2025-04-24 20:50:15 (56.6 MB/s) - ‘sample_web_log_6.log.gz’ saved [10276383/10276383]\n",
            "\n",
            "--2025-04-24 20:50:15--  https://raw.githubusercontent.com/keeyong/sjsu-data226-SP25/refs/heads/main/week13/data/sample_web_log_7.log.gz\n",
            "Resolving raw.githubusercontent.com (raw.githubusercontent.com)... 185.199.108.133, 185.199.109.133, 185.199.110.133, ...\n",
            "Connecting to raw.githubusercontent.com (raw.githubusercontent.com)|185.199.108.133|:443... connected.\n",
            "HTTP request sent, awaiting response... 200 OK\n",
            "Length: 10279182 (9.8M) [application/octet-stream]\n",
            "Saving to: ‘sample_web_log_7.log.gz’\n",
            "\n",
            "sample_web_log_7.lo 100%[===================>]   9.80M  58.3MB/s    in 0.2s    \n",
            "\n",
            "2025-04-24 20:50:15 (58.3 MB/s) - ‘sample_web_log_7.log.gz’ saved [10279182/10279182]\n",
            "\n"
          ]
        }
      ]
    },
    {
      "cell_type": "markdown",
      "source": [
        "## Configure snowflake jar file and set up SparkSession"
      ],
      "metadata": {
        "id": "KMMG1lKsYRfh"
      }
    },
    {
      "cell_type": "code",
      "source": [
        "!cd /usr/local/lib/python3.11/dist-packages/pyspark/jars && wget https://repo1.maven.org/maven2/net/snowflake/snowflake-jdbc/3.19.0/snowflake-jdbc-3.19.0.jar"
      ],
      "metadata": {
        "colab": {
          "base_uri": "https://localhost:8080/"
        },
        "id": "_vlZZTT7W-jZ",
        "outputId": "85c3d357-80ed-4baa-8101-3131954691d7"
      },
      "execution_count": 2,
      "outputs": [
        {
          "output_type": "stream",
          "name": "stdout",
          "text": [
            "--2025-04-24 20:50:38--  https://repo1.maven.org/maven2/net/snowflake/snowflake-jdbc/3.19.0/snowflake-jdbc-3.19.0.jar\n",
            "Resolving repo1.maven.org (repo1.maven.org)... 199.232.192.209, 199.232.196.209, 2a04:4e42:4c::209, ...\n",
            "Connecting to repo1.maven.org (repo1.maven.org)|199.232.192.209|:443... connected.\n",
            "HTTP request sent, awaiting response... 200 OK\n",
            "Length: 70986770 (68M) [application/java-archive]\n",
            "Saving to: ‘snowflake-jdbc-3.19.0.jar’\n",
            "\n",
            "snowflake-jdbc-3.19 100%[===================>]  67.70M   221MB/s    in 0.3s    \n",
            "\n",
            "2025-04-24 20:50:39 (221 MB/s) - ‘snowflake-jdbc-3.19.0.jar’ saved [70986770/70986770]\n",
            "\n"
          ]
        }
      ]
    },
    {
      "cell_type": "code",
      "execution_count": 3,
      "metadata": {
        "id": "2ehI1dj_i7H1"
      },
      "outputs": [],
      "source": [
        "from pyspark.sql import SparkSession\n",
        "import pyspark.sql.functions as F\n",
        "\n",
        "spark = SparkSession.builder.appName(\"HandleLogFiles\").getOrCreate()"
      ]
    },
    {
      "cell_type": "markdown",
      "source": [
        "## Create an input dataframe"
      ],
      "metadata": {
        "id": "aI3SZAySraK8"
      }
    },
    {
      "cell_type": "code",
      "source": [
        "# Load all .gz files in the directory into a DataFrame\n",
        "df = spark.read.text(\"*.gz\")"
      ],
      "metadata": {
        "id": "gj7BXxCrjP8Y"
      },
      "execution_count": 4,
      "outputs": []
    },
    {
      "cell_type": "code",
      "source": [
        "# Check the number of partitions\n",
        "print(df.rdd.getNumPartitions())\n",
        "\n",
        "df.show(truncate=False)"
      ],
      "metadata": {
        "colab": {
          "base_uri": "https://localhost:8080/"
        },
        "id": "jeiOExAiv2eY",
        "outputId": "578be1c0-38b8-4384-d45e-34d534e5dbd2"
      },
      "execution_count": 5,
      "outputs": [
        {
          "output_type": "stream",
          "name": "stdout",
          "text": [
            "3\n",
            "+-----------------------------------------------------------------------------------+\n",
            "|value                                                                              |\n",
            "+-----------------------------------------------------------------------------------+\n",
            "|123.45.67.89 - - [05/Nov/2024:02:08:16 +0000] \"DELETE /cart HTTP/1.1\" 500 242      |\n",
            "|192.168.1.1 - - [04/Nov/2024:21:23:39 +0000] \"POST /checkout HTTP/1.1\" 404 2781    |\n",
            "|234.56.78.90 - - [05/Nov/2024:07:06:19 +0000] \"GET /api/data HTTP/1.1\" 301 3758    |\n",
            "|192.168.1.1 - - [04/Nov/2024:20:03:56 +0000] \"POST /home HTTP/1.1\" 200 1837        |\n",
            "|192.168.1.1 - - [04/Nov/2024:21:25:05 +0000] \"GET /products/123 HTTP/1.1\" 200 3430 |\n",
            "|234.56.78.90 - - [04/Nov/2024:07:38:10 +0000] \"GET /api/data HTTP/1.1\" 404 3729    |\n",
            "|123.45.67.89 - - [04/Nov/2024:12:33:22 +0000] \"PUT /api/data HTTP/1.1\" 404 799     |\n",
            "|192.168.1.1 - - [04/Nov/2024:07:37:46 +0000] \"GET /api/data HTTP/1.1\" 500 309      |\n",
            "|123.45.67.89 - - [04/Nov/2024:21:52:36 +0000] \"POST /checkout HTTP/1.1\" 301 2375   |\n",
            "|123.45.67.89 - - [04/Nov/2024:08:36:44 +0000] \"DELETE /api/data HTTP/1.1\" 404 3449 |\n",
            "|192.168.1.1 - - [05/Nov/2024:03:15:43 +0000] \"GET /api/data HTTP/1.1\" 200 2319     |\n",
            "|234.56.78.90 - - [05/Nov/2024:01:26:03 +0000] \"DELETE /home HTTP/1.1\" 500 1168     |\n",
            "|234.56.78.90 - - [05/Nov/2024:03:26:33 +0000] \"DELETE /cart HTTP/1.1\" 500 1262     |\n",
            "|123.45.67.89 - - [04/Nov/2024:20:46:25 +0000] \"PUT /home HTTP/1.1\" 301 4401        |\n",
            "|123.45.67.89 - - [05/Nov/2024:08:07:51 +0000] \"GET /api/data HTTP/1.1\" 301 3736    |\n",
            "|123.45.67.89 - - [04/Nov/2024:21:01:30 +0000] \"DELETE /cart HTTP/1.1\" 404 2418     |\n",
            "|123.45.67.89 - - [04/Nov/2024:09:40:29 +0000] \"POST /api/data HTTP/1.1\" 301 3260   |\n",
            "|234.56.78.90 - - [04/Nov/2024:09:23:42 +0000] \"GET /home HTTP/1.1\" 200 1488        |\n",
            "|192.168.1.1 - - [04/Nov/2024:11:53:57 +0000] \"POST /products/123 HTTP/1.1\" 200 2627|\n",
            "|234.56.78.90 - - [05/Nov/2024:01:26:01 +0000] \"PUT /cart HTTP/1.1\" 500 4406        |\n",
            "+-----------------------------------------------------------------------------------+\n",
            "only showing top 20 rows\n",
            "\n"
          ]
        }
      ]
    },
    {
      "cell_type": "markdown",
      "source": [
        "## Create a parsed dataframe (log_df)"
      ],
      "metadata": {
        "id": "sR5YVwR_YjYJ"
      }
    },
    {
      "cell_type": "code",
      "source": [
        "# Extract the necessary information from log data using regular expressions\n",
        "pattern = r'(\\d+\\.\\d+\\.\\d+\\.\\d+) - - \\[(.*?)\\] \"(.*?) (.*?) HTTP.*\" (\\d+) (\\d+)'\n",
        "\n",
        "log_df = df.select(\n",
        "    F.regexp_extract(\"value\", pattern, 1).alias(\"ip\"),\n",
        "    F.regexp_extract(\"value\", pattern, 2).alias(\"timestamp\"),\n",
        "    F.regexp_extract(\"value\", pattern, 3).alias(\"method\"),\n",
        "    F.regexp_extract(\"value\", pattern, 4).alias(\"url\"),\n",
        "    F.regexp_extract(\"value\", pattern, 5).alias(\"status\").cast(\"integer\"),\n",
        "    F.regexp_extract(\"value\", pattern, 6).alias(\"size\").cast(\"integer\")\n",
        ")"
      ],
      "metadata": {
        "id": "Alu6rcohlocq"
      },
      "execution_count": 6,
      "outputs": []
    },
    {
      "cell_type": "code",
      "source": [
        "log_df.show()"
      ],
      "metadata": {
        "colab": {
          "base_uri": "https://localhost:8080/"
        },
        "id": "HODpzu0eopyX",
        "outputId": "b5f5495f-738d-46df-eecf-3f6046cf35b4"
      },
      "execution_count": 7,
      "outputs": [
        {
          "output_type": "stream",
          "name": "stdout",
          "text": [
            "+------------+--------------------+------+-------------+------+----+\n",
            "|          ip|           timestamp|method|          url|status|size|\n",
            "+------------+--------------------+------+-------------+------+----+\n",
            "|123.45.67.89|05/Nov/2024:02:08...|DELETE|        /cart|   500| 242|\n",
            "| 192.168.1.1|04/Nov/2024:21:23...|  POST|    /checkout|   404|2781|\n",
            "|234.56.78.90|05/Nov/2024:07:06...|   GET|    /api/data|   301|3758|\n",
            "| 192.168.1.1|04/Nov/2024:20:03...|  POST|        /home|   200|1837|\n",
            "| 192.168.1.1|04/Nov/2024:21:25...|   GET|/products/123|   200|3430|\n",
            "|234.56.78.90|04/Nov/2024:07:38...|   GET|    /api/data|   404|3729|\n",
            "|123.45.67.89|04/Nov/2024:12:33...|   PUT|    /api/data|   404| 799|\n",
            "| 192.168.1.1|04/Nov/2024:07:37...|   GET|    /api/data|   500| 309|\n",
            "|123.45.67.89|04/Nov/2024:21:52...|  POST|    /checkout|   301|2375|\n",
            "|123.45.67.89|04/Nov/2024:08:36...|DELETE|    /api/data|   404|3449|\n",
            "| 192.168.1.1|05/Nov/2024:03:15...|   GET|    /api/data|   200|2319|\n",
            "|234.56.78.90|05/Nov/2024:01:26...|DELETE|        /home|   500|1168|\n",
            "|234.56.78.90|05/Nov/2024:03:26...|DELETE|        /cart|   500|1262|\n",
            "|123.45.67.89|04/Nov/2024:20:46...|   PUT|        /home|   301|4401|\n",
            "|123.45.67.89|05/Nov/2024:08:07...|   GET|    /api/data|   301|3736|\n",
            "|123.45.67.89|04/Nov/2024:21:01...|DELETE|        /cart|   404|2418|\n",
            "|123.45.67.89|04/Nov/2024:09:40...|  POST|    /api/data|   301|3260|\n",
            "|234.56.78.90|04/Nov/2024:09:23...|   GET|        /home|   200|1488|\n",
            "| 192.168.1.1|04/Nov/2024:11:53...|  POST|/products/123|   200|2627|\n",
            "|234.56.78.90|05/Nov/2024:01:26...|   PUT|        /cart|   500|4406|\n",
            "+------------+--------------------+------+-------------+------+----+\n",
            "only showing top 20 rows\n",
            "\n"
          ]
        }
      ]
    },
    {
      "cell_type": "markdown",
      "source": [
        "## Let's compute top 404 urls"
      ],
      "metadata": {
        "id": "YiqH3duQrUNc"
      }
    },
    {
      "cell_type": "code",
      "source": [
        "# Keep only 404 error logs\n",
        "error_404_logs = log_df.filter(log_df.status == 404)"
      ],
      "metadata": {
        "id": "6rLNqA4CnyER"
      },
      "execution_count": 8,
      "outputs": []
    },
    {
      "cell_type": "code",
      "source": [
        "# Group by URL and then count, and sort by count in descending order\n",
        "url_404_count = error_404_logs.groupBy(\"url\").count().orderBy(F.desc(\"count\"))"
      ],
      "metadata": {
        "id": "npcs760FoBbu"
      },
      "execution_count": 9,
      "outputs": []
    },
    {
      "cell_type": "code",
      "source": [
        "# print the outcome\n",
        "url_404_count.show()"
      ],
      "metadata": {
        "colab": {
          "base_uri": "https://localhost:8080/"
        },
        "id": "BXaeAJwDoDzV",
        "outputId": "a04be266-7f0b-46b6-d018-fcafc26ee24f"
      },
      "execution_count": 10,
      "outputs": [
        {
          "output_type": "stream",
          "name": "stdout",
          "text": [
            "+-------------+------+\n",
            "|          url| count|\n",
            "+-------------+------+\n",
            "|/products/123|350970|\n",
            "|        /cart|349830|\n",
            "|    /checkout|349604|\n",
            "|    /api/data|349498|\n",
            "|        /home|349492|\n",
            "+-------------+------+\n",
            "\n"
          ]
        }
      ]
    },
    {
      "cell_type": "markdown",
      "source": [
        "## Now Let's do this in SparkSQL"
      ],
      "metadata": {
        "id": "u9y7n7zZoTGX"
      }
    },
    {
      "cell_type": "code",
      "source": [
        "# Register the DataFrame as a temporary SQL table\n",
        "log_df.createOrReplaceTempView(\"logs\")"
      ],
      "metadata": {
        "id": "XBml8oMUoSwJ"
      },
      "execution_count": 11,
      "outputs": []
    },
    {
      "cell_type": "code",
      "source": [
        "# Use SparkSQL to count URLs with 404 status\n",
        "url_404_count = spark.sql(\"\"\"\n",
        "    SELECT url, COUNT(1) as count\n",
        "    FROM logs\n",
        "    WHERE status = 404\n",
        "    GROUP BY url\n",
        "    ORDER BY count DESC\n",
        "\"\"\")"
      ],
      "metadata": {
        "id": "uVRYwMG7ojLD"
      },
      "execution_count": 12,
      "outputs": []
    },
    {
      "cell_type": "code",
      "source": [
        "url_404_count.show()"
      ],
      "metadata": {
        "colab": {
          "base_uri": "https://localhost:8080/"
        },
        "id": "xXyylmAhoume",
        "outputId": "868a3bdc-dc60-428c-c96c-ebf10749dd6b"
      },
      "execution_count": 13,
      "outputs": [
        {
          "output_type": "stream",
          "name": "stdout",
          "text": [
            "+-------------+------+\n",
            "|          url| count|\n",
            "+-------------+------+\n",
            "|/products/123|350970|\n",
            "|        /cart|349830|\n",
            "|    /checkout|349604|\n",
            "|    /api/data|349498|\n",
            "|        /home|349492|\n",
            "+-------------+------+\n",
            "\n"
          ]
        }
      ]
    },
    {
      "cell_type": "markdown",
      "source": [
        "## Let's save this DF (url_404_count) as a table in Snowflake"
      ],
      "metadata": {
        "id": "6U_8X0Hmoy1B"
      }
    },
    {
      "cell_type": "code",
      "source": [
        "from google.colab import userdata\n",
        "\n",
        "account = userdata.get('snowflake_account')\n",
        "user = userdata.get('snowflake_userid')\n",
        "password = userdata.get('snowflake_password')\n",
        "database = \"dev\"\n",
        "schema = \"analytics\"\n",
        "\n",
        "url = f\"jdbc:snowflake://{account}.snowflakecomputing.com/?db={database}&schema={schema}&user={user}&password={password}\""
      ],
      "metadata": {
        "id": "zjpcPLEEjhNC"
      },
      "execution_count": 14,
      "outputs": []
    },
    {
      "cell_type": "code",
      "source": [
        "url_404_count.write \\\n",
        "    .format(\"jdbc\") \\\n",
        "    .option(\"driver\", \"net.snowflake.client.jdbc.SnowflakeDriver\") \\\n",
        "    .option(\"url\", url) \\\n",
        "    .mode(\"overwrite\") \\\n",
        "    .option(\"dbtable\", \"url_404_count\") \\\n",
        "    .save()"
      ],
      "metadata": {
        "id": "__jKr1jYjidy"
      },
      "execution_count": 16,
      "outputs": []
    },
    {
      "cell_type": "code",
      "source": [
        "# Now go back to Snowflake and check the table (analytics.url_404_count)"
      ],
      "metadata": {
        "id": "7GpIqkRcqq3-"
      },
      "execution_count": null,
      "outputs": []
    }
  ]
}